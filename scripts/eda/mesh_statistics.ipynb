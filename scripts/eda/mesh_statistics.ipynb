{
 "cells": [
  {
   "cell_type": "code",
   "execution_count": 1,
   "metadata": {},
   "outputs": [],
   "source": [
    "import matplotlib.pyplot as plt\n",
    "import pandas as pd\n",
    "import numpy as np"
   ]
  },
  {
   "cell_type": "code",
   "execution_count": 5,
   "metadata": {},
   "outputs": [
    {
     "data": {
      "text/html": [
       "<div>\n",
       "<style scoped>\n",
       "    .dataframe tbody tr th:only-of-type {\n",
       "        vertical-align: middle;\n",
       "    }\n",
       "\n",
       "    .dataframe tbody tr th {\n",
       "        vertical-align: top;\n",
       "    }\n",
       "\n",
       "    .dataframe thead th {\n",
       "        text-align: right;\n",
       "    }\n",
       "</style>\n",
       "<table border=\"1\" class=\"dataframe\">\n",
       "  <thead>\n",
       "    <tr style=\"text-align: right;\">\n",
       "      <th></th>\n",
       "      <th>name</th>\n",
       "      <th>triangles</th>\n",
       "      <th>faces</th>\n",
       "      <th>vertices</th>\n",
       "      <th>edges</th>\n",
       "    </tr>\n",
       "  </thead>\n",
       "  <tbody>\n",
       "    <tr>\n",
       "      <th>0</th>\n",
       "      <td>307-L</td>\n",
       "      <td>662797</td>\n",
       "      <td>662797</td>\n",
       "      <td>1988391</td>\n",
       "      <td>1988391</td>\n",
       "    </tr>\n",
       "    <tr>\n",
       "      <th>1</th>\n",
       "      <td>1-L</td>\n",
       "      <td>1253165</td>\n",
       "      <td>1253165</td>\n",
       "      <td>3759495</td>\n",
       "      <td>3759495</td>\n",
       "    </tr>\n",
       "    <tr>\n",
       "      <th>2</th>\n",
       "      <td>1-R</td>\n",
       "      <td>1099597</td>\n",
       "      <td>1099597</td>\n",
       "      <td>3298791</td>\n",
       "      <td>3298791</td>\n",
       "    </tr>\n",
       "    <tr>\n",
       "      <th>3</th>\n",
       "      <td>10-L</td>\n",
       "      <td>855234</td>\n",
       "      <td>855234</td>\n",
       "      <td>2565702</td>\n",
       "      <td>2565702</td>\n",
       "    </tr>\n",
       "    <tr>\n",
       "      <th>4</th>\n",
       "      <td>10-R</td>\n",
       "      <td>768887</td>\n",
       "      <td>768887</td>\n",
       "      <td>2306661</td>\n",
       "      <td>2306661</td>\n",
       "    </tr>\n",
       "    <tr>\n",
       "      <th>...</th>\n",
       "      <td>...</td>\n",
       "      <td>...</td>\n",
       "      <td>...</td>\n",
       "      <td>...</td>\n",
       "      <td>...</td>\n",
       "    </tr>\n",
       "    <tr>\n",
       "      <th>965</th>\n",
       "      <td>97-R</td>\n",
       "      <td>1109472</td>\n",
       "      <td>1109472</td>\n",
       "      <td>3328416</td>\n",
       "      <td>3328416</td>\n",
       "    </tr>\n",
       "    <tr>\n",
       "      <th>966</th>\n",
       "      <td>98-L</td>\n",
       "      <td>1069176</td>\n",
       "      <td>1069176</td>\n",
       "      <td>3207528</td>\n",
       "      <td>3207528</td>\n",
       "    </tr>\n",
       "    <tr>\n",
       "      <th>967</th>\n",
       "      <td>98-R</td>\n",
       "      <td>1050062</td>\n",
       "      <td>1050062</td>\n",
       "      <td>3150186</td>\n",
       "      <td>3150186</td>\n",
       "    </tr>\n",
       "    <tr>\n",
       "      <th>968</th>\n",
       "      <td>99-L</td>\n",
       "      <td>1083964</td>\n",
       "      <td>1083964</td>\n",
       "      <td>3251892</td>\n",
       "      <td>3251892</td>\n",
       "    </tr>\n",
       "    <tr>\n",
       "      <th>969</th>\n",
       "      <td>99-R</td>\n",
       "      <td>1233656</td>\n",
       "      <td>1233656</td>\n",
       "      <td>3700968</td>\n",
       "      <td>3700968</td>\n",
       "    </tr>\n",
       "  </tbody>\n",
       "</table>\n",
       "<p>970 rows × 5 columns</p>\n",
       "</div>"
      ],
      "text/plain": [
       "      name  triangles    faces  vertices    edges\n",
       "0    307-L     662797   662797   1988391  1988391\n",
       "1      1-L    1253165  1253165   3759495  3759495\n",
       "2      1-R    1099597  1099597   3298791  3298791\n",
       "3     10-L     855234   855234   2565702  2565702\n",
       "4     10-R     768887   768887   2306661  2306661\n",
       "..     ...        ...      ...       ...      ...\n",
       "965   97-R    1109472  1109472   3328416  3328416\n",
       "966   98-L    1069176  1069176   3207528  3207528\n",
       "967   98-R    1050062  1050062   3150186  3150186\n",
       "968   99-L    1083964  1083964   3251892  3251892\n",
       "969   99-R    1233656  1233656   3700968  3700968\n",
       "\n",
       "[970 rows x 5 columns]"
      ]
     },
     "execution_count": 5,
     "metadata": {},
     "output_type": "execute_result"
    }
   ],
   "source": [
    "mesh_df = pd.read_csv(\"./mesh_metadata.csv\")\n",
    "mesh_df"
   ]
  },
  {
   "cell_type": "code",
   "execution_count": 5,
   "metadata": {},
   "outputs": [],
   "source": [
    "ps_l = mesh_df[mesh_df[\"name\"].str.contains(\"L\")]\n",
    "ps_r = mesh_df[mesh_df[\"name\"].str.contains(\"R\")]"
   ]
  },
  {
   "cell_type": "code",
   "execution_count": 3,
   "metadata": {},
   "outputs": [],
   "source": [
    "total_triangles = mesh_df[\"triangles\"].to_numpy()"
   ]
  },
  {
   "cell_type": "code",
   "execution_count": 10,
   "metadata": {},
   "outputs": [
    {
     "data": {
      "text/plain": [
       "1688348"
      ]
     },
     "execution_count": 10,
     "metadata": {},
     "output_type": "execute_result"
    }
   ],
   "source": [
    "mesh_df[\"triangles\"].max()"
   ]
  },
  {
   "cell_type": "code",
   "execution_count": 4,
   "metadata": {},
   "outputs": [
    {
     "name": "stdout",
     "output_type": "stream",
     "text": [
      "994601.1742268042 982245.0\n",
      "994601.0\n"
     ]
    }
   ],
   "source": [
    "avg_triangles = np.mean(total_triangles)\n",
    "med_triangles = np.median(total_triangles)\n",
    "\n",
    "print(avg_triangles, med_triangles)\n",
    "print(np.round(avg_triangles))\n"
   ]
  },
  {
   "cell_type": "code",
   "execution_count": 12,
   "metadata": {},
   "outputs": [
    {
     "data": {
      "text/html": [
       "<div>\n",
       "<style scoped>\n",
       "    .dataframe tbody tr th:only-of-type {\n",
       "        vertical-align: middle;\n",
       "    }\n",
       "\n",
       "    .dataframe tbody tr th {\n",
       "        vertical-align: top;\n",
       "    }\n",
       "\n",
       "    .dataframe thead th {\n",
       "        text-align: right;\n",
       "    }\n",
       "</style>\n",
       "<table border=\"1\" class=\"dataframe\">\n",
       "  <thead>\n",
       "    <tr style=\"text-align: right;\">\n",
       "      <th></th>\n",
       "      <th>name</th>\n",
       "      <th>triangles</th>\n",
       "      <th>faces</th>\n",
       "      <th>vertices</th>\n",
       "      <th>edges</th>\n",
       "    </tr>\n",
       "  </thead>\n",
       "  <tbody>\n",
       "    <tr>\n",
       "      <th>0</th>\n",
       "      <td>307-L</td>\n",
       "      <td>662797</td>\n",
       "      <td>662797</td>\n",
       "      <td>1988391</td>\n",
       "      <td>1988391</td>\n",
       "    </tr>\n",
       "    <tr>\n",
       "      <th>1</th>\n",
       "      <td>1-L</td>\n",
       "      <td>1253165</td>\n",
       "      <td>1253165</td>\n",
       "      <td>3759495</td>\n",
       "      <td>3759495</td>\n",
       "    </tr>\n",
       "    <tr>\n",
       "      <th>3</th>\n",
       "      <td>10-L</td>\n",
       "      <td>855234</td>\n",
       "      <td>855234</td>\n",
       "      <td>2565702</td>\n",
       "      <td>2565702</td>\n",
       "    </tr>\n",
       "    <tr>\n",
       "      <th>5</th>\n",
       "      <td>100-L</td>\n",
       "      <td>930983</td>\n",
       "      <td>930983</td>\n",
       "      <td>2792949</td>\n",
       "      <td>2792949</td>\n",
       "    </tr>\n",
       "    <tr>\n",
       "      <th>7</th>\n",
       "      <td>101-L</td>\n",
       "      <td>1157609</td>\n",
       "      <td>1157609</td>\n",
       "      <td>3472827</td>\n",
       "      <td>3472827</td>\n",
       "    </tr>\n",
       "    <tr>\n",
       "      <th>...</th>\n",
       "      <td>...</td>\n",
       "      <td>...</td>\n",
       "      <td>...</td>\n",
       "      <td>...</td>\n",
       "      <td>...</td>\n",
       "    </tr>\n",
       "    <tr>\n",
       "      <th>960</th>\n",
       "      <td>95-L</td>\n",
       "      <td>1085364</td>\n",
       "      <td>1085364</td>\n",
       "      <td>3256092</td>\n",
       "      <td>3256092</td>\n",
       "    </tr>\n",
       "    <tr>\n",
       "      <th>962</th>\n",
       "      <td>96-L</td>\n",
       "      <td>1171904</td>\n",
       "      <td>1171904</td>\n",
       "      <td>3515712</td>\n",
       "      <td>3515712</td>\n",
       "    </tr>\n",
       "    <tr>\n",
       "      <th>964</th>\n",
       "      <td>97-L</td>\n",
       "      <td>1048178</td>\n",
       "      <td>1048178</td>\n",
       "      <td>3144534</td>\n",
       "      <td>3144534</td>\n",
       "    </tr>\n",
       "    <tr>\n",
       "      <th>966</th>\n",
       "      <td>98-L</td>\n",
       "      <td>1069176</td>\n",
       "      <td>1069176</td>\n",
       "      <td>3207528</td>\n",
       "      <td>3207528</td>\n",
       "    </tr>\n",
       "    <tr>\n",
       "      <th>968</th>\n",
       "      <td>99-L</td>\n",
       "      <td>1083964</td>\n",
       "      <td>1083964</td>\n",
       "      <td>3251892</td>\n",
       "      <td>3251892</td>\n",
       "    </tr>\n",
       "  </tbody>\n",
       "</table>\n",
       "<p>484 rows × 5 columns</p>\n",
       "</div>"
      ],
      "text/plain": [
       "      name  triangles    faces  vertices    edges\n",
       "0    307-L     662797   662797   1988391  1988391\n",
       "1      1-L    1253165  1253165   3759495  3759495\n",
       "3     10-L     855234   855234   2565702  2565702\n",
       "5    100-L     930983   930983   2792949  2792949\n",
       "7    101-L    1157609  1157609   3472827  3472827\n",
       "..     ...        ...      ...       ...      ...\n",
       "960   95-L    1085364  1085364   3256092  3256092\n",
       "962   96-L    1171904  1171904   3515712  3515712\n",
       "964   97-L    1048178  1048178   3144534  3144534\n",
       "966   98-L    1069176  1069176   3207528  3207528\n",
       "968   99-L    1083964  1083964   3251892  3251892\n",
       "\n",
       "[484 rows x 5 columns]"
      ]
     },
     "execution_count": 12,
     "metadata": {},
     "output_type": "execute_result"
    }
   ],
   "source": [
    "ps_l"
   ]
  },
  {
   "cell_type": "code",
   "execution_count": 13,
   "metadata": {},
   "outputs": [
    {
     "name": "stdout",
     "output_type": "stream",
     "text": [
      "981318.1487603306 968566.0\n",
      "981318.0\n"
     ]
    }
   ],
   "source": [
    "total_triangles = ps_l[\"triangles\"].to_numpy()\n",
    "avg_triangles = np.mean(total_triangles)\n",
    "med_triangles = np.median(total_triangles)\n",
    "\n",
    "print(avg_triangles, med_triangles)\n",
    "print(np.round(avg_triangles))"
   ]
  },
  {
   "cell_type": "code",
   "execution_count": 10,
   "metadata": {},
   "outputs": [
    {
     "name": "stdout",
     "output_type": "stream",
     "text": [
      "1007829.5370370371 990405.5\n",
      "1007830.0\n"
     ]
    }
   ],
   "source": [
    "total_triangles = ps_r[\"triangles\"].to_numpy()\n",
    "avg_triangles = np.mean(total_triangles)\n",
    "med_triangles = np.median(total_triangles)\n",
    "\n",
    "print(avg_triangles, med_triangles)\n",
    "print(np.round(avg_triangles))"
   ]
  }
 ],
 "metadata": {
  "kernelspec": {
   "display_name": "env",
   "language": "python",
   "name": "python3"
  },
  "language_info": {
   "codemirror_mode": {
    "name": "ipython",
    "version": 3
   },
   "file_extension": ".py",
   "mimetype": "text/x-python",
   "name": "python",
   "nbconvert_exporter": "python",
   "pygments_lexer": "ipython3",
   "version": "3.10.12"
  }
 },
 "nbformat": 4,
 "nbformat_minor": 2
}

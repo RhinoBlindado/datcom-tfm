{
 "cells": [
  {
   "cell_type": "code",
   "execution_count": 1,
   "metadata": {
    "vscode": {
     "languageId": "r"
    }
   },
   "outputs": [
    {
     "name": "stderr",
     "output_type": "stream",
     "text": [
      "── \u001b[1mAttaching core tidyverse packages\u001b[22m ──────────────────────── tidyverse 2.0.0 ──\n",
      "\u001b[32m✔\u001b[39m \u001b[34mdplyr    \u001b[39m 1.1.3     \u001b[32m✔\u001b[39m \u001b[34mreadr    \u001b[39m 2.1.4\n",
      "\u001b[32m✔\u001b[39m \u001b[34mforcats  \u001b[39m 1.0.0     \u001b[32m✔\u001b[39m \u001b[34mstringr  \u001b[39m 1.5.0\n",
      "\u001b[32m✔\u001b[39m \u001b[34mlubridate\u001b[39m 1.9.3     \u001b[32m✔\u001b[39m \u001b[34mtibble   \u001b[39m 3.2.1\n",
      "\u001b[32m✔\u001b[39m \u001b[34mpurrr    \u001b[39m 1.0.2     \u001b[32m✔\u001b[39m \u001b[34mtidyr    \u001b[39m 1.3.0\n",
      "── \u001b[1mConflicts\u001b[22m ────────────────────────────────────────── tidyverse_conflicts() ──\n",
      "\u001b[31m✖\u001b[39m \u001b[34mpurrr\u001b[39m::\u001b[32m%||%()\u001b[39m   masks \u001b[34mbase\u001b[39m::%||%()\n",
      "\u001b[31m✖\u001b[39m \u001b[34mdplyr\u001b[39m::\u001b[32mfilter()\u001b[39m masks \u001b[34mstats\u001b[39m::filter()\n",
      "\u001b[31m✖\u001b[39m \u001b[34mdplyr\u001b[39m::\u001b[32mlag()\u001b[39m    masks \u001b[34mstats\u001b[39m::lag()\n",
      "\u001b[36mℹ\u001b[39m Use the conflicted package (\u001b[3m\u001b[34m<http://conflicted.r-lib.org/>\u001b[39m\u001b[23m) to force all conflicts to become errors\n"
     ]
    }
   ],
   "source": [
    "library(ggplot2)\n",
    "library(tidyverse)"
   ]
  },
  {
   "cell_type": "code",
   "execution_count": 2,
   "metadata": {
    "vscode": {
     "languageId": "r"
    }
   },
   "outputs": [
    {
     "name": "stderr",
     "output_type": "stream",
     "text": [
      "\u001b[1m\u001b[22mNew names:\n",
      "\u001b[36m•\u001b[39m `` -> `...2`\n",
      "\u001b[1mRows: \u001b[22m\u001b[34m38\u001b[39m \u001b[1mColumns: \u001b[22m\u001b[34m2\u001b[39m\n",
      "\u001b[36m──\u001b[39m \u001b[1mColumn specification\u001b[22m \u001b[36m────────────────────────────────────────────────────────\u001b[39m\n",
      "\u001b[1mDelimiter:\u001b[22m \",\"\n",
      "\u001b[32mdbl\u001b[39m (2): YEAR, ...2\n",
      "\n",
      "\u001b[36mℹ\u001b[39m Use `spec()` to retrieve the full column specification for this data.\n",
      "\u001b[36mℹ\u001b[39m Specify the column types or set `show_col_types = FALSE` to quiet this message.\n"
     ]
    },
    {
     "data": {
      "text/html": [
       "<table class=\"dataframe\">\n",
       "<caption>A tibble: 10 × 2</caption>\n",
       "<thead>\n",
       "\t<tr><th scope=col>year</th><th scope=col>publications</th></tr>\n",
       "\t<tr><th scope=col>&lt;dbl&gt;</th><th scope=col>&lt;dbl&gt;</th></tr>\n",
       "</thead>\n",
       "<tbody>\n",
       "\t<tr><td>2025</td><td> 46</td></tr>\n",
       "\t<tr><td>2024</td><td>129</td></tr>\n",
       "\t<tr><td>2023</td><td> 76</td></tr>\n",
       "\t<tr><td>2022</td><td> 85</td></tr>\n",
       "\t<tr><td>2021</td><td>103</td></tr>\n",
       "\t<tr><td>2020</td><td> 78</td></tr>\n",
       "\t<tr><td>2019</td><td>113</td></tr>\n",
       "\t<tr><td>2018</td><td>105</td></tr>\n",
       "\t<tr><td>2017</td><td> 87</td></tr>\n",
       "\t<tr><td>2016</td><td> 92</td></tr>\n",
       "</tbody>\n",
       "</table>\n"
      ],
      "text/latex": [
       "A tibble: 10 × 2\n",
       "\\begin{tabular}{ll}\n",
       " year & publications\\\\\n",
       " <dbl> & <dbl>\\\\\n",
       "\\hline\n",
       "\t 2025 &  46\\\\\n",
       "\t 2024 & 129\\\\\n",
       "\t 2023 &  76\\\\\n",
       "\t 2022 &  85\\\\\n",
       "\t 2021 & 103\\\\\n",
       "\t 2020 &  78\\\\\n",
       "\t 2019 & 113\\\\\n",
       "\t 2018 & 105\\\\\n",
       "\t 2017 &  87\\\\\n",
       "\t 2016 &  92\\\\\n",
       "\\end{tabular}\n"
      ],
      "text/markdown": [
       "\n",
       "A tibble: 10 × 2\n",
       "\n",
       "| year &lt;dbl&gt; | publications &lt;dbl&gt; |\n",
       "|---|---|\n",
       "| 2025 |  46 |\n",
       "| 2024 | 129 |\n",
       "| 2023 |  76 |\n",
       "| 2022 |  85 |\n",
       "| 2021 | 103 |\n",
       "| 2020 |  78 |\n",
       "| 2019 | 113 |\n",
       "| 2018 | 105 |\n",
       "| 2017 |  87 |\n",
       "| 2016 |  92 |\n",
       "\n"
      ],
      "text/plain": [
       "   year publications\n",
       "1  2025  46         \n",
       "2  2024 129         \n",
       "3  2023  76         \n",
       "4  2022  85         \n",
       "5  2021 103         \n",
       "6  2020  78         \n",
       "7  2019 113         \n",
       "8  2018 105         \n",
       "9  2017  87         \n",
       "10 2016  92         "
      ]
     },
     "metadata": {},
     "output_type": "display_data"
    }
   ],
   "source": [
    "# SKip the first 7 rows and get the header in the 8th row\n",
    "# The first 7 rows are not needed, and the 8th row contains the header\n",
    "ps_df_af <- read_csv(\"../../docs/report/data/sota-AF_publications_per_year_2.csv\", skip = 7, col_names = TRUE)\n",
    "cols <- c(\"year\", \"publications\")\n",
    "colnames(ps_df_af) <- cols\n",
    "head(ps_df_af, 10)"
   ]
  },
  {
   "cell_type": "code",
   "execution_count": 3,
   "metadata": {
    "vscode": {
     "languageId": "r"
    }
   },
   "outputs": [
    {
     "name": "stderr",
     "output_type": "stream",
     "text": [
      "\u001b[1m\u001b[22mNew names:\n",
      "\u001b[36m•\u001b[39m `` -> `...2`\n",
      "\u001b[1mRows: \u001b[22m\u001b[34m12\u001b[39m \u001b[1mColumns: \u001b[22m\u001b[34m2\u001b[39m\n",
      "\u001b[36m──\u001b[39m \u001b[1mColumn specification\u001b[22m \u001b[36m────────────────────────────────────────────────────────\u001b[39m\n",
      "\u001b[1mDelimiter:\u001b[22m \",\"\n",
      "\u001b[32mdbl\u001b[39m (2): YEAR, ...2\n",
      "\n",
      "\u001b[36mℹ\u001b[39m Use `spec()` to retrieve the full column specification for this data.\n",
      "\u001b[36mℹ\u001b[39m Specify the column types or set `show_col_types = FALSE` to quiet this message.\n"
     ]
    },
    {
     "data": {
      "text/html": [
       "<table class=\"dataframe\">\n",
       "<caption>A tibble: 10 × 2</caption>\n",
       "<thead>\n",
       "\t<tr><th scope=col>year</th><th scope=col>publications</th></tr>\n",
       "\t<tr><th scope=col>&lt;dbl&gt;</th><th scope=col>&lt;dbl&gt;</th></tr>\n",
       "</thead>\n",
       "<tbody>\n",
       "\t<tr><td>2025</td><td> 9</td></tr>\n",
       "\t<tr><td>2024</td><td>30</td></tr>\n",
       "\t<tr><td>2023</td><td> 9</td></tr>\n",
       "\t<tr><td>2022</td><td> 8</td></tr>\n",
       "\t<tr><td>2021</td><td> 9</td></tr>\n",
       "\t<tr><td>2020</td><td> 4</td></tr>\n",
       "\t<tr><td>2019</td><td> 2</td></tr>\n",
       "\t<tr><td>2018</td><td> 1</td></tr>\n",
       "\t<tr><td>2016</td><td> 1</td></tr>\n",
       "\t<tr><td>2015</td><td> 1</td></tr>\n",
       "</tbody>\n",
       "</table>\n"
      ],
      "text/latex": [
       "A tibble: 10 × 2\n",
       "\\begin{tabular}{ll}\n",
       " year & publications\\\\\n",
       " <dbl> & <dbl>\\\\\n",
       "\\hline\n",
       "\t 2025 &  9\\\\\n",
       "\t 2024 & 30\\\\\n",
       "\t 2023 &  9\\\\\n",
       "\t 2022 &  8\\\\\n",
       "\t 2021 &  9\\\\\n",
       "\t 2020 &  4\\\\\n",
       "\t 2019 &  2\\\\\n",
       "\t 2018 &  1\\\\\n",
       "\t 2016 &  1\\\\\n",
       "\t 2015 &  1\\\\\n",
       "\\end{tabular}\n"
      ],
      "text/markdown": [
       "\n",
       "A tibble: 10 × 2\n",
       "\n",
       "| year &lt;dbl&gt; | publications &lt;dbl&gt; |\n",
       "|---|---|\n",
       "| 2025 |  9 |\n",
       "| 2024 | 30 |\n",
       "| 2023 |  9 |\n",
       "| 2022 |  8 |\n",
       "| 2021 |  9 |\n",
       "| 2020 |  4 |\n",
       "| 2019 |  2 |\n",
       "| 2018 |  1 |\n",
       "| 2016 |  1 |\n",
       "| 2015 |  1 |\n",
       "\n"
      ],
      "text/plain": [
       "   year publications\n",
       "1  2025  9          \n",
       "2  2024 30          \n",
       "3  2023  9          \n",
       "4  2022  8          \n",
       "5  2021  9          \n",
       "6  2020  4          \n",
       "7  2019  2          \n",
       "8  2018  1          \n",
       "9  2016  1          \n",
       "10 2015  1          "
      ]
     },
     "metadata": {},
     "output_type": "display_data"
    }
   ],
   "source": [
    "ps_df_af_ai <- read_csv(\"../../docs/report/data/sota-AF_AI_publications_per_year_2.csv\", skip = 7, col_names = TRUE)\n",
    "cols <- c(\"year\", \"publications\")\n",
    "colnames(ps_df_af_ai) <- cols\n",
    "head(ps_df_af_ai, 10)"
   ]
  },
  {
   "cell_type": "code",
   "execution_count": 4,
   "metadata": {
    "vscode": {
     "languageId": "r"
    }
   },
   "outputs": [
    {
     "name": "stderr",
     "output_type": "stream",
     "text": [
      "\u001b[1m\u001b[22mNew names:\n",
      "\u001b[36m•\u001b[39m `` -> `...2`\n",
      "\u001b[1mRows: \u001b[22m\u001b[34m5\u001b[39m \u001b[1mColumns: \u001b[22m\u001b[34m2\u001b[39m\n",
      "\u001b[36m──\u001b[39m \u001b[1mColumn specification\u001b[22m \u001b[36m────────────────────────────────────────────────────────\u001b[39m\n",
      "\u001b[1mDelimiter:\u001b[22m \",\"\n",
      "\u001b[32mdbl\u001b[39m (2): YEAR, ...2\n",
      "\n",
      "\u001b[36mℹ\u001b[39m Use `spec()` to retrieve the full column specification for this data.\n",
      "\u001b[36mℹ\u001b[39m Specify the column types or set `show_col_types = FALSE` to quiet this message.\n"
     ]
    },
    {
     "data": {
      "text/html": [
       "<table class=\"dataframe\">\n",
       "<caption>A tibble: 5 × 2</caption>\n",
       "<thead>\n",
       "\t<tr><th scope=col>year</th><th scope=col>publications</th></tr>\n",
       "\t<tr><th scope=col>&lt;dbl&gt;</th><th scope=col>&lt;dbl&gt;</th></tr>\n",
       "</thead>\n",
       "<tbody>\n",
       "\t<tr><td>2024</td><td>3</td></tr>\n",
       "\t<tr><td>2023</td><td>1</td></tr>\n",
       "\t<tr><td>2022</td><td>2</td></tr>\n",
       "\t<tr><td>2021</td><td>1</td></tr>\n",
       "\t<tr><td>2012</td><td>1</td></tr>\n",
       "</tbody>\n",
       "</table>\n"
      ],
      "text/latex": [
       "A tibble: 5 × 2\n",
       "\\begin{tabular}{ll}\n",
       " year & publications\\\\\n",
       " <dbl> & <dbl>\\\\\n",
       "\\hline\n",
       "\t 2024 & 3\\\\\n",
       "\t 2023 & 1\\\\\n",
       "\t 2022 & 2\\\\\n",
       "\t 2021 & 1\\\\\n",
       "\t 2012 & 1\\\\\n",
       "\\end{tabular}\n"
      ],
      "text/markdown": [
       "\n",
       "A tibble: 5 × 2\n",
       "\n",
       "| year &lt;dbl&gt; | publications &lt;dbl&gt; |\n",
       "|---|---|\n",
       "| 2024 | 3 |\n",
       "| 2023 | 1 |\n",
       "| 2022 | 2 |\n",
       "| 2021 | 1 |\n",
       "| 2012 | 1 |\n",
       "\n"
      ],
      "text/plain": [
       "  year publications\n",
       "1 2024 3           \n",
       "2 2023 1           \n",
       "3 2022 2           \n",
       "4 2021 1           \n",
       "5 2012 1           "
      ]
     },
     "metadata": {},
     "output_type": "display_data"
    }
   ],
   "source": [
    "ps_df_af_ai_3d <- read_csv(\"../../docs/report/data/sota-AF_AI_3D_publications_per_year.csv\", skip = 7, col_names = TRUE)\n",
    "cols <- c(\"year\", \"publications\")\n",
    "colnames(ps_df_af_ai_3d) <- cols\n",
    "head(ps_df_af_ai_3d, 10)"
   ]
  },
  {
   "cell_type": "code",
   "execution_count": 5,
   "metadata": {
    "vscode": {
     "languageId": "r"
    }
   },
   "outputs": [
    {
     "data": {
      "text/html": [
       "<table class=\"dataframe\">\n",
       "<caption>A spec_tbl_df: 38 × 4</caption>\n",
       "<thead>\n",
       "\t<tr><th scope=col>year</th><th scope=col>AF</th><th scope=col>AF+AI</th><th scope=col>AF+AI+3D</th></tr>\n",
       "\t<tr><th scope=col>&lt;dbl&gt;</th><th scope=col>&lt;dbl&gt;</th><th scope=col>&lt;dbl&gt;</th><th scope=col>&lt;dbl&gt;</th></tr>\n",
       "</thead>\n",
       "<tbody>\n",
       "\t<tr><td>2025</td><td> 46</td><td> 9</td><td>0</td></tr>\n",
       "\t<tr><td>2024</td><td>129</td><td>30</td><td>3</td></tr>\n",
       "\t<tr><td>2023</td><td> 76</td><td> 9</td><td>1</td></tr>\n",
       "\t<tr><td>2022</td><td> 85</td><td> 8</td><td>2</td></tr>\n",
       "\t<tr><td>2021</td><td>103</td><td> 9</td><td>1</td></tr>\n",
       "\t<tr><td>2020</td><td> 78</td><td> 4</td><td>0</td></tr>\n",
       "\t<tr><td>2019</td><td>113</td><td> 2</td><td>0</td></tr>\n",
       "\t<tr><td>2018</td><td>105</td><td> 1</td><td>0</td></tr>\n",
       "\t<tr><td>2017</td><td> 87</td><td> 0</td><td>0</td></tr>\n",
       "\t<tr><td>2016</td><td> 92</td><td> 1</td><td>0</td></tr>\n",
       "\t<tr><td>2015</td><td> 68</td><td> 1</td><td>0</td></tr>\n",
       "\t<tr><td>2014</td><td> 72</td><td> 0</td><td>0</td></tr>\n",
       "\t<tr><td>2013</td><td> 59</td><td> 1</td><td>0</td></tr>\n",
       "\t<tr><td>2012</td><td> 54</td><td> 1</td><td>1</td></tr>\n",
       "\t<tr><td>2011</td><td> 44</td><td> 0</td><td>0</td></tr>\n",
       "\t<tr><td>2010</td><td> 41</td><td> 0</td><td>0</td></tr>\n",
       "\t<tr><td>2009</td><td> 28</td><td> 0</td><td>0</td></tr>\n",
       "\t<tr><td>2008</td><td> 36</td><td> 0</td><td>0</td></tr>\n",
       "\t<tr><td>2007</td><td> 22</td><td> 0</td><td>0</td></tr>\n",
       "\t<tr><td>2006</td><td> 23</td><td> 0</td><td>0</td></tr>\n",
       "\t<tr><td>2005</td><td> 15</td><td> 0</td><td>0</td></tr>\n",
       "\t<tr><td>2004</td><td>  9</td><td> 0</td><td>0</td></tr>\n",
       "\t<tr><td>2003</td><td> 10</td><td> 0</td><td>0</td></tr>\n",
       "\t<tr><td>2002</td><td>  7</td><td> 0</td><td>0</td></tr>\n",
       "\t<tr><td>2001</td><td> 10</td><td> 0</td><td>0</td></tr>\n",
       "\t<tr><td>2000</td><td>  5</td><td> 0</td><td>0</td></tr>\n",
       "\t<tr><td>1999</td><td>  6</td><td> 0</td><td>0</td></tr>\n",
       "\t<tr><td>1998</td><td>  6</td><td> 0</td><td>0</td></tr>\n",
       "\t<tr><td>1997</td><td>  3</td><td> 0</td><td>0</td></tr>\n",
       "\t<tr><td>1996</td><td>  4</td><td> 0</td><td>0</td></tr>\n",
       "\t<tr><td>1995</td><td>  3</td><td> 0</td><td>0</td></tr>\n",
       "\t<tr><td>1994</td><td>  3</td><td> 0</td><td>0</td></tr>\n",
       "\t<tr><td>1993</td><td>  1</td><td> 0</td><td>0</td></tr>\n",
       "\t<tr><td>1991</td><td>  2</td><td> 0</td><td>0</td></tr>\n",
       "\t<tr><td>1990</td><td>  1</td><td> 0</td><td>0</td></tr>\n",
       "\t<tr><td>1986</td><td>  1</td><td> 0</td><td>0</td></tr>\n",
       "\t<tr><td>1984</td><td>  3</td><td> 0</td><td>0</td></tr>\n",
       "\t<tr><td>1977</td><td>  1</td><td> 0</td><td>0</td></tr>\n",
       "</tbody>\n",
       "</table>\n"
      ],
      "text/latex": [
       "A spec\\_tbl\\_df: 38 × 4\n",
       "\\begin{tabular}{llll}\n",
       " year & AF & AF+AI & AF+AI+3D\\\\\n",
       " <dbl> & <dbl> & <dbl> & <dbl>\\\\\n",
       "\\hline\n",
       "\t 2025 &  46 &  9 & 0\\\\\n",
       "\t 2024 & 129 & 30 & 3\\\\\n",
       "\t 2023 &  76 &  9 & 1\\\\\n",
       "\t 2022 &  85 &  8 & 2\\\\\n",
       "\t 2021 & 103 &  9 & 1\\\\\n",
       "\t 2020 &  78 &  4 & 0\\\\\n",
       "\t 2019 & 113 &  2 & 0\\\\\n",
       "\t 2018 & 105 &  1 & 0\\\\\n",
       "\t 2017 &  87 &  0 & 0\\\\\n",
       "\t 2016 &  92 &  1 & 0\\\\\n",
       "\t 2015 &  68 &  1 & 0\\\\\n",
       "\t 2014 &  72 &  0 & 0\\\\\n",
       "\t 2013 &  59 &  1 & 0\\\\\n",
       "\t 2012 &  54 &  1 & 1\\\\\n",
       "\t 2011 &  44 &  0 & 0\\\\\n",
       "\t 2010 &  41 &  0 & 0\\\\\n",
       "\t 2009 &  28 &  0 & 0\\\\\n",
       "\t 2008 &  36 &  0 & 0\\\\\n",
       "\t 2007 &  22 &  0 & 0\\\\\n",
       "\t 2006 &  23 &  0 & 0\\\\\n",
       "\t 2005 &  15 &  0 & 0\\\\\n",
       "\t 2004 &   9 &  0 & 0\\\\\n",
       "\t 2003 &  10 &  0 & 0\\\\\n",
       "\t 2002 &   7 &  0 & 0\\\\\n",
       "\t 2001 &  10 &  0 & 0\\\\\n",
       "\t 2000 &   5 &  0 & 0\\\\\n",
       "\t 1999 &   6 &  0 & 0\\\\\n",
       "\t 1998 &   6 &  0 & 0\\\\\n",
       "\t 1997 &   3 &  0 & 0\\\\\n",
       "\t 1996 &   4 &  0 & 0\\\\\n",
       "\t 1995 &   3 &  0 & 0\\\\\n",
       "\t 1994 &   3 &  0 & 0\\\\\n",
       "\t 1993 &   1 &  0 & 0\\\\\n",
       "\t 1991 &   2 &  0 & 0\\\\\n",
       "\t 1990 &   1 &  0 & 0\\\\\n",
       "\t 1986 &   1 &  0 & 0\\\\\n",
       "\t 1984 &   3 &  0 & 0\\\\\n",
       "\t 1977 &   1 &  0 & 0\\\\\n",
       "\\end{tabular}\n"
      ],
      "text/markdown": [
       "\n",
       "A spec_tbl_df: 38 × 4\n",
       "\n",
       "| year &lt;dbl&gt; | AF &lt;dbl&gt; | AF+AI &lt;dbl&gt; | AF+AI+3D &lt;dbl&gt; |\n",
       "|---|---|---|---|\n",
       "| 2025 |  46 |  9 | 0 |\n",
       "| 2024 | 129 | 30 | 3 |\n",
       "| 2023 |  76 |  9 | 1 |\n",
       "| 2022 |  85 |  8 | 2 |\n",
       "| 2021 | 103 |  9 | 1 |\n",
       "| 2020 |  78 |  4 | 0 |\n",
       "| 2019 | 113 |  2 | 0 |\n",
       "| 2018 | 105 |  1 | 0 |\n",
       "| 2017 |  87 |  0 | 0 |\n",
       "| 2016 |  92 |  1 | 0 |\n",
       "| 2015 |  68 |  1 | 0 |\n",
       "| 2014 |  72 |  0 | 0 |\n",
       "| 2013 |  59 |  1 | 0 |\n",
       "| 2012 |  54 |  1 | 1 |\n",
       "| 2011 |  44 |  0 | 0 |\n",
       "| 2010 |  41 |  0 | 0 |\n",
       "| 2009 |  28 |  0 | 0 |\n",
       "| 2008 |  36 |  0 | 0 |\n",
       "| 2007 |  22 |  0 | 0 |\n",
       "| 2006 |  23 |  0 | 0 |\n",
       "| 2005 |  15 |  0 | 0 |\n",
       "| 2004 |   9 |  0 | 0 |\n",
       "| 2003 |  10 |  0 | 0 |\n",
       "| 2002 |   7 |  0 | 0 |\n",
       "| 2001 |  10 |  0 | 0 |\n",
       "| 2000 |   5 |  0 | 0 |\n",
       "| 1999 |   6 |  0 | 0 |\n",
       "| 1998 |   6 |  0 | 0 |\n",
       "| 1997 |   3 |  0 | 0 |\n",
       "| 1996 |   4 |  0 | 0 |\n",
       "| 1995 |   3 |  0 | 0 |\n",
       "| 1994 |   3 |  0 | 0 |\n",
       "| 1993 |   1 |  0 | 0 |\n",
       "| 1991 |   2 |  0 | 0 |\n",
       "| 1990 |   1 |  0 | 0 |\n",
       "| 1986 |   1 |  0 | 0 |\n",
       "| 1984 |   3 |  0 | 0 |\n",
       "| 1977 |   1 |  0 | 0 |\n",
       "\n"
      ],
      "text/plain": [
       "   year AF  AF+AI AF+AI+3D\n",
       "1  2025  46  9    0       \n",
       "2  2024 129 30    3       \n",
       "3  2023  76  9    1       \n",
       "4  2022  85  8    2       \n",
       "5  2021 103  9    1       \n",
       "6  2020  78  4    0       \n",
       "7  2019 113  2    0       \n",
       "8  2018 105  1    0       \n",
       "9  2017  87  0    0       \n",
       "10 2016  92  1    0       \n",
       "11 2015  68  1    0       \n",
       "12 2014  72  0    0       \n",
       "13 2013  59  1    0       \n",
       "14 2012  54  1    1       \n",
       "15 2011  44  0    0       \n",
       "16 2010  41  0    0       \n",
       "17 2009  28  0    0       \n",
       "18 2008  36  0    0       \n",
       "19 2007  22  0    0       \n",
       "20 2006  23  0    0       \n",
       "21 2005  15  0    0       \n",
       "22 2004   9  0    0       \n",
       "23 2003  10  0    0       \n",
       "24 2002   7  0    0       \n",
       "25 2001  10  0    0       \n",
       "26 2000   5  0    0       \n",
       "27 1999   6  0    0       \n",
       "28 1998   6  0    0       \n",
       "29 1997   3  0    0       \n",
       "30 1996   4  0    0       \n",
       "31 1995   3  0    0       \n",
       "32 1994   3  0    0       \n",
       "33 1993   1  0    0       \n",
       "34 1991   2  0    0       \n",
       "35 1990   1  0    0       \n",
       "36 1986   1  0    0       \n",
       "37 1984   3  0    0       \n",
       "38 1977   1  0    0       "
      ]
     },
     "metadata": {},
     "output_type": "display_data"
    }
   ],
   "source": [
    "joined <- full_join(ps_df_af, ps_df_af_ai, by = \"year\", suffix = c(\"_df1\", \"_df2\"))\n",
    "joined[is.na(joined)] <- 0\n",
    "\n",
    "joined <- full_join(joined, ps_df_af_ai_3d, by = \"year\", suffix = c(\"_df1\", \"_df3\"))\n",
    "joined[is.na(joined)] <- 0\n",
    "\n",
    "\n",
    "cols <- c(\"year\", \"AF\", \"AF+AI\", \"AF+AI+3D\")\n",
    "colnames(joined) <- cols\n",
    "joined"
   ]
  },
  {
   "cell_type": "code",
   "execution_count": 6,
   "metadata": {
    "vscode": {
     "languageId": "r"
    }
   },
   "outputs": [],
   "source": [
    "df_long <- pivot_longer(joined, \n",
    "                        cols = c(\"AF\", \"AF+AI\", \"AF+AI+3D\"),\n",
    "                        names_to = \"topic\", \n",
    "                        values_to = \"publications\")"
   ]
  },
  {
   "cell_type": "code",
   "execution_count": 7,
   "metadata": {
    "vscode": {
     "languageId": "r"
    }
   },
   "outputs": [
    {
     "name": "stderr",
     "output_type": "stream",
     "text": [
      "Warning message:\n",
      "“\u001b[1m\u001b[22mUsing `size` aesthetic for lines was deprecated in ggplot2 3.4.0.\n",
      "\u001b[36mℹ\u001b[39m Please use `linewidth` instead.”\n"
     ]
    },
    {
     "data": {
      "image/png": "[encoded data removed]",
      "text/plain": [
       "plot without title"
      ]
     },
     "metadata": {
      "image/png": {
       "height": 420,
       "width": 420
      }
     },
     "output_type": "display_data"
    }
   ],
   "source": [
    "ggplot(df_long, aes(x = year, y = publications, color = topic)) +\n",
    "  geom_line(size = 1) +\n",
    "  geom_point(size = 2, shape = 15) +\n",
    "  labs(x = \"Año\", \n",
    "       y = \"Número de publicaciones\",\n",
    "       color = \"Búsqueda\") +\n",
    "  theme_minimal() +\n",
    "  theme(legend.position = \"bottom\")\n",
    "\n",
    "save_path <- str_c(\"../../docs/report/figures/3_sota/scopus_pubs.pdf\")\n",
    "ggsave(save_path, width = 6, height = 4.5, dpi = 100)\n"
   ]
  }
 ],
 "metadata": {
  "kernelspec": {
   "display_name": "R",
   "language": "R",
   "name": "ir"
  },
  "language_info": {
   "codemirror_mode": "r",
   "file_extension": ".r",
   "mimetype": "text/x-r-source",
   "name": "R",
   "pygments_lexer": "r",
   "version": "4.4.1"
  }
 },
 "nbformat": 4,
 "nbformat_minor": 2
}

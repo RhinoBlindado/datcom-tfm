{
 "cells": [
  {
   "cell_type": "code",
   "execution_count": 1,
   "metadata": {},
   "outputs": [],
   "source": [
    "import numpy as np\n",
    "import seaborn as sns\n",
    "import matplotlib.pyplot as plt\n",
    "import os"
   ]
  },
  {
   "cell_type": "code",
   "execution_count": 2,
   "metadata": {},
   "outputs": [],
   "source": [
    "def confusion_matrix_plot(cm, savepath, figsize=(8, 8)):\n",
    "    fig = plt.figure(figsize=figsize)\n",
    "\n",
    "    sns.heatmap(cm, annot=True, fmt='d', linewidths=0.5, square=True, cbar=False, xticklabels=1, yticklabels=1)\n",
    "    plt.xlabel(\"Predicho\")\n",
    "    plt.ylabel(\"Real\")\n",
    "\n",
    "    plt.tight_layout()\n",
    "    plt.savefig(savepath, format=\"pdf\", bbox_inches=\"tight\")\n",
    "\n",
    "    plt.close(fig)"
   ]
  },
  {
   "cell_type": "code",
   "execution_count": 32,
   "metadata": {},
   "outputs": [],
   "source": [
    "# Experiment name\n",
    "experiment_name = \"opt-250205-055036-exmeshcnn-optim-PS-LRm-970-Expert-npy_remesh_50k_cut-vm\"\n",
    "# experiment_path = os.path.join(\"../../experiments/Grad-CAM/multi/\", experiment_name, \"test\")\n",
    "experiment_path = os.path.join(\"../../experiments/ngpu/50k-C/\", experiment_name, \"test\")\n",
    "\n",
    "save_path = \"../../docs/report/figures/5_experiments/\""
   ]
  },
  {
   "cell_type": "code",
   "execution_count": 33,
   "metadata": {},
   "outputs": [],
   "source": [
    "chars = [\"vm\"]\n",
    "expr_name = \"single\""
   ]
  },
  {
   "cell_type": "code",
   "execution_count": 34,
   "metadata": {},
   "outputs": [],
   "source": [
    "for char in chars:\n",
    "    # act_cm = np.load(os.path.join(experiment_path, f\"{char}-cm.npy\"))\n",
    "    act_cm = np.load(os.path.join(experiment_path, f\"{char}-test_cm.npy\"))\n",
    "    confusion_matrix_plot(act_cm, os.path.join(save_path, f\"{expr_name}-{char}-cm.pdf\"), figsize=(3, 3))"
   ]
  }
 ],
 "metadata": {
  "kernelspec": {
   "display_name": "env",
   "language": "python",
   "name": "python3"
  },
  "language_info": {
   "codemirror_mode": {
    "name": "ipython",
    "version": 3
   },
   "file_extension": ".py",
   "mimetype": "text/x-python",
   "name": "python",
   "nbconvert_exporter": "python",
   "pygments_lexer": "ipython3",
   "version": "3.10.12"
  }
 },
 "nbformat": 4,
 "nbformat_minor": 2
}

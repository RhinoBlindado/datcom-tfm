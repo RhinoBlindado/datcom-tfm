{
 "cells": [
  {
   "cell_type": "code",
   "execution_count": 6,
   "metadata": {},
   "outputs": [],
   "source": [
    "import pandas as pd\n",
    "from functools import reduce\n",
    "from typing import Union"
   ]
  },
  {
   "cell_type": "code",
   "execution_count": 47,
   "metadata": {},
   "outputs": [],
   "source": [
    "common_path = '../../experiments/Grad-CAM'"
   ]
  },
  {
   "cell_type": "code",
   "execution_count": 48,
   "metadata": {},
   "outputs": [],
   "source": [
    "af = common_path + \"/multi/grad-250608_165545-exmeshcnn-optim-fn_ex-PS-LRm-970-Expert-npy_remesh_50k_cut-af\" + \"/test/af-preds.csv\"\n",
    "df_af = pd.read_csv(af)\n",
    "\n",
    "bn = common_path + \"/multi/grad-250608_170943-exmeshcnn-optim-fn_ex-PS-LRm-970-Expert-npy_remesh_25k_cut-bn\" + \"/test/bn-preds.csv\"\n",
    "df_bn = pd.read_csv(bn)\n",
    "\n",
    "dm_dp = common_path + \"/multi/grad-250608_171808-exmeshcnn-optim-PS-LRm-970-Expert-npy_remesh_100k_cut-dm_dp\" + \"/test/dm-preds.csv\"\n",
    "df_dm_dp = pd.read_csv(dm_dp)\n",
    "\n",
    "ip = common_path + \"/single/grad-250605_234003-exmeshcnn-optim-PS-LRm-970-Expert-npy_remesh_100k_cut-ip\" + \"/test/ip-preds.csv\"\n",
    "df_ip = pd.read_csv(ip)\n",
    "\n",
    "lse = common_path + \"/single/grad-250605_223442-exmeshcnn-optim-PS-LRm-970-Expert-npy_remesh_100k-lse\" + \"/test/lse-preds.csv\"\n",
    "df_lse = pd.read_csv(lse)\n",
    "\n",
    "use = common_path + \"/single/grad-250608_164644-exmeshcnn-optim-PS-LRm-970-Expert-npy_remesh_25k_cut-use\" + \"/test/use-preds.csv\"\n",
    "df_use = pd.read_csv(use)\n",
    "\n",
    "vb = common_path + \"/single/grad-250608_165110-exmeshcnn-optim-PS-LRm-970-Expert-npy_remesh_50k_cut-vb\" + \"/test/vb-preds.csv\"\n",
    "df_vb = pd.read_csv(vb)\n",
    "\n",
    "vm = common_path + \"/single/grad-250608_165218-exmeshcnn-optim-PS-LRm-970-Expert-npy_remesh_50k_cut-vm\" + \"/test/vm-preds.csv\"\n",
    "df_vm = pd.read_csv(vm)"
   ]
  },
  {
   "cell_type": "code",
   "execution_count": 50,
   "metadata": {},
   "outputs": [],
   "source": [
    "af_single = common_path + \"/single/grad-250609_222542-exmeshcnn-optim-PS-LRm-970-Expert-npy_remesh_50k_cut-af\" + \"/test/af-preds.csv\"\n",
    "df_af_single = pd.read_csv(af_single)\n",
    "\n",
    "bn_single = common_path + \"/single/grad-250604_001145-exmeshcnn-optim-PS-LRm-970-Expert-npy_remesh_25k_cut-bn\" + \"/test/bn-preds.csv\"\n",
    "df_bn_single = pd.read_csv(bn_single)\n",
    "\n",
    "dm_single = common_path + \"/single/grad-250604_003011-exmeshcnn-optim-PS-LRm-970-Expert-npy_remesh_25k_cut-dm\" + \"/test/dm-preds.csv\"\n",
    "df_dm_single = pd.read_csv(dm_single)\n",
    "\n",
    "dp_single = common_path + \"/single/grad-250605_235202-exmeshcnn-optim-PS-LRm-970-Expert-npy_remesh_25k_cut-dp\" + \"/test/dp-preds.csv\"\n",
    "df_dp_single = pd.read_csv(dp_single)\n"
   ]
  },
  {
   "cell_type": "code",
   "execution_count": 11,
   "metadata": {},
   "outputs": [],
   "source": [
    "def dataframe_intersection(\n",
    "    dataframes: list[pd.DataFrame], by: Union[list, str]\n",
    ") -> list[pd.DataFrame]:\n",
    "    set_index = [d.set_index(by) for d in dataframes]\n",
    "    index_intersection = reduce(pd.Index.intersection, [d.index for d in set_index])\n",
    "    intersected = [df.loc[index_intersection].reset_index() for df in set_index]\n",
    "\n",
    "    return intersected"
   ]
  },
  {
   "cell_type": "code",
   "execution_count": 16,
   "metadata": {},
   "outputs": [],
   "source": [
    "df_af = df_af.x\n",
    "df_bn = df_bn.x\n",
    "df_dm_dp = df_dm_dp.x\n",
    "df_ip = df_ip.x\n",
    "df_lse = df_lse.x\n",
    "df_use = df_use.x\n",
    "df_vb = df_vb.x\n",
    "df_vm = df_vm.x"
   ]
  },
  {
   "cell_type": "code",
   "execution_count": 39,
   "metadata": {},
   "outputs": [
    {
     "data": {
      "text/html": [
       "<div>\n",
       "<style scoped>\n",
       "    .dataframe tbody tr th:only-of-type {\n",
       "        vertical-align: middle;\n",
       "    }\n",
       "\n",
       "    .dataframe tbody tr th {\n",
       "        vertical-align: top;\n",
       "    }\n",
       "\n",
       "    .dataframe thead th {\n",
       "        text-align: right;\n",
       "    }\n",
       "</style>\n",
       "<table border=\"1\" class=\"dataframe\">\n",
       "  <thead>\n",
       "    <tr style=\"text-align: right;\">\n",
       "      <th></th>\n",
       "      <th>x</th>\n",
       "      <th>y</th>\n",
       "      <th>y_pred</th>\n",
       "    </tr>\n",
       "  </thead>\n",
       "  <tbody>\n",
       "    <tr>\n",
       "      <th>0</th>\n",
       "      <td>53-L</td>\n",
       "      <td>4</td>\n",
       "      <td>4</td>\n",
       "    </tr>\n",
       "    <tr>\n",
       "      <th>1</th>\n",
       "      <td>53-Rm</td>\n",
       "      <td>4</td>\n",
       "      <td>4</td>\n",
       "    </tr>\n",
       "  </tbody>\n",
       "</table>\n",
       "</div>"
      ],
      "text/plain": [
       "       x  y  y_pred\n",
       "0   53-L  4       4\n",
       "1  53-Rm  4       4"
      ]
     },
     "execution_count": 39,
     "metadata": {},
     "output_type": "execute_result"
    }
   ],
   "source": [
    "pd.concat(dataframe_intersection([df_af, df_bn, df_dm_dp, df_ip, df_lse, df_use, df_vm], by='x')).drop_duplicates(subset='x')"
   ]
  },
  {
   "cell_type": "code",
   "execution_count": 56,
   "metadata": {},
   "outputs": [
    {
     "data": {
      "text/html": [
       "<div>\n",
       "<style scoped>\n",
       "    .dataframe tbody tr th:only-of-type {\n",
       "        vertical-align: middle;\n",
       "    }\n",
       "\n",
       "    .dataframe tbody tr th {\n",
       "        vertical-align: top;\n",
       "    }\n",
       "\n",
       "    .dataframe thead th {\n",
       "        text-align: right;\n",
       "    }\n",
       "</style>\n",
       "<table border=\"1\" class=\"dataframe\">\n",
       "  <thead>\n",
       "    <tr style=\"text-align: right;\">\n",
       "      <th></th>\n",
       "      <th>x</th>\n",
       "      <th>y</th>\n",
       "      <th>y_pred</th>\n",
       "    </tr>\n",
       "  </thead>\n",
       "  <tbody>\n",
       "    <tr>\n",
       "      <th>0</th>\n",
       "      <td>227-Rm</td>\n",
       "      <td>3</td>\n",
       "      <td>4</td>\n",
       "    </tr>\n",
       "    <tr>\n",
       "      <th>1</th>\n",
       "      <td>399-L</td>\n",
       "      <td>4</td>\n",
       "      <td>4</td>\n",
       "    </tr>\n",
       "    <tr>\n",
       "      <th>2</th>\n",
       "      <td>399-Rm</td>\n",
       "      <td>4</td>\n",
       "      <td>4</td>\n",
       "    </tr>\n",
       "  </tbody>\n",
       "</table>\n",
       "</div>"
      ],
      "text/plain": [
       "        x  y  y_pred\n",
       "0  227-Rm  3       4\n",
       "1   399-L  4       4\n",
       "2  399-Rm  4       4"
      ]
     },
     "execution_count": 56,
     "metadata": {},
     "output_type": "execute_result"
    }
   ],
   "source": [
    "pd.concat(dataframe_intersection([df_af_single, df_bn_single, df_dm_single, df_dp_single], by='x')).drop_duplicates(subset='x')"
   ]
  }
 ],
 "metadata": {
  "kernelspec": {
   "display_name": "env",
   "language": "python",
   "name": "python3"
  },
  "language_info": {
   "codemirror_mode": {
    "name": "ipython",
    "version": 3
   },
   "file_extension": ".py",
   "mimetype": "text/x-python",
   "name": "python",
   "nbconvert_exporter": "python",
   "pygments_lexer": "ipython3",
   "version": "3.10.12"
  }
 },
 "nbformat": 4,
 "nbformat_minor": 2
}
